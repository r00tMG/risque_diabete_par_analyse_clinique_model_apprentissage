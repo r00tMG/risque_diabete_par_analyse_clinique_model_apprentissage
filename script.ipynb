{
 "cells": [
  {
   "cell_type": "code",
   "execution_count": 1,
   "id": "b673dc2c-4caa-451a-aa13-b89068312238",
   "metadata": {},
   "outputs": [],
   "source": [
    "import pandas as pd\n",
    "import seaborn as sns\n",
    "import matplotlib.pyplot as plt"
   ]
  },
  {
   "cell_type": "markdown",
   "id": "3acbe98d-feec-4699-b079-d2e841805dd4",
   "metadata": {},
   "source": [
    "# Chargement des données"
   ]
  },
  {
   "cell_type": "markdown",
   "id": "58ee5e2c-20c4-4da0-b92b-bb9b3c310e20",
   "metadata": {},
   "source": [
    "## 1. Importation des données avec pandas"
   ]
  },
  {
   "cell_type": "code",
   "execution_count": 2,
   "id": "7f72adb5-cc2f-46ce-85dd-ef68aae711a8",
   "metadata": {},
   "outputs": [],
   "source": [
    "df = pd.read_csv(\"datas/dataset.csv\")"
   ]
  },
  {
   "cell_type": "markdown",
   "id": "c18b18d8-928a-41c3-bf79-f0a5de13177a",
   "metadata": {},
   "source": [
    "## 2. Type et structure des colonnes"
   ]
  },
  {
   "cell_type": "code",
   "execution_count": 3,
   "id": "f617cff0-55f4-40f5-9be3-cb30bd5415dc",
   "metadata": {},
   "outputs": [
    {
     "data": {
      "text/html": [
       "<div>\n",
       "<style scoped>\n",
       "    .dataframe tbody tr th:only-of-type {\n",
       "        vertical-align: middle;\n",
       "    }\n",
       "\n",
       "    .dataframe tbody tr th {\n",
       "        vertical-align: top;\n",
       "    }\n",
       "\n",
       "    .dataframe thead th {\n",
       "        text-align: right;\n",
       "    }\n",
       "</style>\n",
       "<table border=\"1\" class=\"dataframe\">\n",
       "  <thead>\n",
       "    <tr style=\"text-align: right;\">\n",
       "      <th></th>\n",
       "      <th>Unnamed: 0</th>\n",
       "      <th>Pregnancies</th>\n",
       "      <th>Glucose</th>\n",
       "      <th>BloodPressure</th>\n",
       "      <th>SkinThickness</th>\n",
       "      <th>Insulin</th>\n",
       "      <th>BMI</th>\n",
       "      <th>DiabetesPedigreeFunction</th>\n",
       "      <th>Age</th>\n",
       "    </tr>\n",
       "  </thead>\n",
       "  <tbody>\n",
       "    <tr>\n",
       "      <th>0</th>\n",
       "      <td>0</td>\n",
       "      <td>6</td>\n",
       "      <td>148</td>\n",
       "      <td>72</td>\n",
       "      <td>35</td>\n",
       "      <td>0</td>\n",
       "      <td>33.6</td>\n",
       "      <td>0.627</td>\n",
       "      <td>50</td>\n",
       "    </tr>\n",
       "    <tr>\n",
       "      <th>1</th>\n",
       "      <td>1</td>\n",
       "      <td>1</td>\n",
       "      <td>85</td>\n",
       "      <td>66</td>\n",
       "      <td>29</td>\n",
       "      <td>0</td>\n",
       "      <td>26.6</td>\n",
       "      <td>0.351</td>\n",
       "      <td>31</td>\n",
       "    </tr>\n",
       "    <tr>\n",
       "      <th>2</th>\n",
       "      <td>2</td>\n",
       "      <td>8</td>\n",
       "      <td>183</td>\n",
       "      <td>64</td>\n",
       "      <td>0</td>\n",
       "      <td>0</td>\n",
       "      <td>23.3</td>\n",
       "      <td>0.672</td>\n",
       "      <td>32</td>\n",
       "    </tr>\n",
       "    <tr>\n",
       "      <th>3</th>\n",
       "      <td>3</td>\n",
       "      <td>1</td>\n",
       "      <td>89</td>\n",
       "      <td>66</td>\n",
       "      <td>23</td>\n",
       "      <td>94</td>\n",
       "      <td>28.1</td>\n",
       "      <td>0.167</td>\n",
       "      <td>21</td>\n",
       "    </tr>\n",
       "    <tr>\n",
       "      <th>4</th>\n",
       "      <td>4</td>\n",
       "      <td>0</td>\n",
       "      <td>137</td>\n",
       "      <td>40</td>\n",
       "      <td>35</td>\n",
       "      <td>168</td>\n",
       "      <td>43.1</td>\n",
       "      <td>2.288</td>\n",
       "      <td>33</td>\n",
       "    </tr>\n",
       "  </tbody>\n",
       "</table>\n",
       "</div>"
      ],
      "text/plain": [
       "   Unnamed: 0  Pregnancies  Glucose  BloodPressure  SkinThickness  Insulin  \\\n",
       "0           0            6      148             72             35        0   \n",
       "1           1            1       85             66             29        0   \n",
       "2           2            8      183             64              0        0   \n",
       "3           3            1       89             66             23       94   \n",
       "4           4            0      137             40             35      168   \n",
       "\n",
       "    BMI  DiabetesPedigreeFunction  Age  \n",
       "0  33.6                     0.627   50  \n",
       "1  26.6                     0.351   31  \n",
       "2  23.3                     0.672   32  \n",
       "3  28.1                     0.167   21  \n",
       "4  43.1                     2.288   33  "
      ]
     },
     "execution_count": 3,
     "metadata": {},
     "output_type": "execute_result"
    }
   ],
   "source": [
    "df.head()"
   ]
  },
  {
   "cell_type": "code",
   "execution_count": 4,
   "id": "1f1bccaa-62a9-4bd1-90fb-2d09c8feb332",
   "metadata": {},
   "outputs": [
    {
     "name": "stdout",
     "output_type": "stream",
     "text": [
      "<class 'pandas.core.frame.DataFrame'>\n",
      "RangeIndex: 768 entries, 0 to 767\n",
      "Data columns (total 9 columns):\n",
      " #   Column                    Non-Null Count  Dtype  \n",
      "---  ------                    --------------  -----  \n",
      " 0   Unnamed: 0                768 non-null    int64  \n",
      " 1   Pregnancies               768 non-null    int64  \n",
      " 2   Glucose                   768 non-null    int64  \n",
      " 3   BloodPressure             768 non-null    int64  \n",
      " 4   SkinThickness             768 non-null    int64  \n",
      " 5   Insulin                   768 non-null    int64  \n",
      " 6   BMI                       768 non-null    float64\n",
      " 7   DiabetesPedigreeFunction  768 non-null    float64\n",
      " 8   Age                       768 non-null    int64  \n",
      "dtypes: float64(2), int64(7)\n",
      "memory usage: 54.1 KB\n"
     ]
    }
   ],
   "source": [
    "df.info()"
   ]
  },
  {
   "cell_type": "markdown",
   "id": "bb65ff03-b031-4364-9102-eeea90dfef15",
   "metadata": {},
   "source": [
    "# Analyse exploratoire des données"
   ]
  },
  {
   "cell_type": "markdown",
   "id": "b0feb8f1-9607-46ad-9f1a-a1a93361c797",
   "metadata": {},
   "source": [
    "## 1. Comprendre la structure générale du jeu de données"
   ]
  },
  {
   "cell_type": "markdown",
   "id": "74730a3e-c4c2-432d-8789-86f733171e18",
   "metadata": {},
   "source": [
    "### a. Dimensions"
   ]
  },
  {
   "cell_type": "code",
   "execution_count": 5,
   "id": "71b1cdff-7e6b-4fb4-8400-484def0b8dab",
   "metadata": {},
   "outputs": [
    {
     "data": {
      "text/plain": [
       "(768, 9)"
      ]
     },
     "execution_count": 5,
     "metadata": {},
     "output_type": "execute_result"
    }
   ],
   "source": [
    "df.shape"
   ]
  },
  {
   "cell_type": "markdown",
   "id": "3dbaeff7-b688-4541-a7ce-e47361407315",
   "metadata": {},
   "source": [
    "- Nombre de colonnes : 9\n",
    "- Nombre de Lignes : 768"
   ]
  },
  {
   "cell_type": "markdown",
   "id": "11b51793-5611-4645-bfb3-5aa8a7c156c2",
   "metadata": {},
   "source": [
    "### b. Type"
   ]
  },
  {
   "cell_type": "code",
   "execution_count": 6,
   "id": "415f9729-43c5-46ca-8750-4180085df710",
   "metadata": {},
   "outputs": [
    {
     "data": {
      "text/plain": [
       "Unnamed: 0                    int64\n",
       "Pregnancies                   int64\n",
       "Glucose                       int64\n",
       "BloodPressure                 int64\n",
       "SkinThickness                 int64\n",
       "Insulin                       int64\n",
       "BMI                         float64\n",
       "DiabetesPedigreeFunction    float64\n",
       "Age                           int64\n",
       "dtype: object"
      ]
     },
     "execution_count": 6,
     "metadata": {},
     "output_type": "execute_result"
    }
   ],
   "source": [
    "df.dtypes"
   ]
  },
  {
   "cell_type": "markdown",
   "id": "9d09bc82-c4f7-4371-8fba-c181445a485d",
   "metadata": {},
   "source": [
    "### c. Aperçu"
   ]
  },
  {
   "cell_type": "code",
   "execution_count": 7,
   "id": "9de8d9fe-0e34-4baf-9317-5fd2cf6e6acf",
   "metadata": {},
   "outputs": [
    {
     "data": {
      "text/html": [
       "<div>\n",
       "<style scoped>\n",
       "    .dataframe tbody tr th:only-of-type {\n",
       "        vertical-align: middle;\n",
       "    }\n",
       "\n",
       "    .dataframe tbody tr th {\n",
       "        vertical-align: top;\n",
       "    }\n",
       "\n",
       "    .dataframe thead th {\n",
       "        text-align: right;\n",
       "    }\n",
       "</style>\n",
       "<table border=\"1\" class=\"dataframe\">\n",
       "  <thead>\n",
       "    <tr style=\"text-align: right;\">\n",
       "      <th></th>\n",
       "      <th>Unnamed: 0</th>\n",
       "      <th>Pregnancies</th>\n",
       "      <th>Glucose</th>\n",
       "      <th>BloodPressure</th>\n",
       "      <th>SkinThickness</th>\n",
       "      <th>Insulin</th>\n",
       "      <th>BMI</th>\n",
       "      <th>DiabetesPedigreeFunction</th>\n",
       "      <th>Age</th>\n",
       "    </tr>\n",
       "  </thead>\n",
       "  <tbody>\n",
       "    <tr>\n",
       "      <th>0</th>\n",
       "      <td>0</td>\n",
       "      <td>6</td>\n",
       "      <td>148</td>\n",
       "      <td>72</td>\n",
       "      <td>35</td>\n",
       "      <td>0</td>\n",
       "      <td>33.6</td>\n",
       "      <td>0.627</td>\n",
       "      <td>50</td>\n",
       "    </tr>\n",
       "    <tr>\n",
       "      <th>1</th>\n",
       "      <td>1</td>\n",
       "      <td>1</td>\n",
       "      <td>85</td>\n",
       "      <td>66</td>\n",
       "      <td>29</td>\n",
       "      <td>0</td>\n",
       "      <td>26.6</td>\n",
       "      <td>0.351</td>\n",
       "      <td>31</td>\n",
       "    </tr>\n",
       "    <tr>\n",
       "      <th>2</th>\n",
       "      <td>2</td>\n",
       "      <td>8</td>\n",
       "      <td>183</td>\n",
       "      <td>64</td>\n",
       "      <td>0</td>\n",
       "      <td>0</td>\n",
       "      <td>23.3</td>\n",
       "      <td>0.672</td>\n",
       "      <td>32</td>\n",
       "    </tr>\n",
       "    <tr>\n",
       "      <th>3</th>\n",
       "      <td>3</td>\n",
       "      <td>1</td>\n",
       "      <td>89</td>\n",
       "      <td>66</td>\n",
       "      <td>23</td>\n",
       "      <td>94</td>\n",
       "      <td>28.1</td>\n",
       "      <td>0.167</td>\n",
       "      <td>21</td>\n",
       "    </tr>\n",
       "    <tr>\n",
       "      <th>4</th>\n",
       "      <td>4</td>\n",
       "      <td>0</td>\n",
       "      <td>137</td>\n",
       "      <td>40</td>\n",
       "      <td>35</td>\n",
       "      <td>168</td>\n",
       "      <td>43.1</td>\n",
       "      <td>2.288</td>\n",
       "      <td>33</td>\n",
       "    </tr>\n",
       "  </tbody>\n",
       "</table>\n",
       "</div>"
      ],
      "text/plain": [
       "   Unnamed: 0  Pregnancies  Glucose  BloodPressure  SkinThickness  Insulin  \\\n",
       "0           0            6      148             72             35        0   \n",
       "1           1            1       85             66             29        0   \n",
       "2           2            8      183             64              0        0   \n",
       "3           3            1       89             66             23       94   \n",
       "4           4            0      137             40             35      168   \n",
       "\n",
       "    BMI  DiabetesPedigreeFunction  Age  \n",
       "0  33.6                     0.627   50  \n",
       "1  26.6                     0.351   31  \n",
       "2  23.3                     0.672   32  \n",
       "3  28.1                     0.167   21  \n",
       "4  43.1                     2.288   33  "
      ]
     },
     "execution_count": 7,
     "metadata": {},
     "output_type": "execute_result"
    }
   ],
   "source": [
    "df.head()"
   ]
  },
  {
   "cell_type": "markdown",
   "id": "847b91f0-4b33-4a82-9ec2-1c67a639487e",
   "metadata": {},
   "source": [
    "## 2. Identifier les valeurs manquantes et les doublons"
   ]
  },
  {
   "cell_type": "markdown",
   "id": "a6cd5fed-ce2e-4f45-a7f9-622e3d6a1cd5",
   "metadata": {},
   "source": [
    "### a. Valeur manquante"
   ]
  },
  {
   "cell_type": "code",
   "execution_count": 8,
   "id": "174d7b5f-5958-4584-bf50-57bf8bfd3bc6",
   "metadata": {},
   "outputs": [
    {
     "data": {
      "text/plain": [
       "Unnamed: 0                  0\n",
       "Pregnancies                 0\n",
       "Glucose                     0\n",
       "BloodPressure               0\n",
       "SkinThickness               0\n",
       "Insulin                     0\n",
       "BMI                         0\n",
       "DiabetesPedigreeFunction    0\n",
       "Age                         0\n",
       "dtype: int64"
      ]
     },
     "execution_count": 8,
     "metadata": {},
     "output_type": "execute_result"
    }
   ],
   "source": [
    "df.isnull().sum()"
   ]
  },
  {
   "cell_type": "markdown",
   "id": "1902d036-287d-4dbe-a522-c8043ae48df9",
   "metadata": {},
   "source": [
    "Il n'y a aucune valeur manquante"
   ]
  },
  {
   "cell_type": "markdown",
   "id": "e10056fd-9f30-41cd-8fe7-287cfbd9def2",
   "metadata": {},
   "source": [
    "### b. Doublons"
   ]
  },
  {
   "cell_type": "code",
   "execution_count": 9,
   "id": "7937376d-c083-415c-b0c4-737dbfa2d462",
   "metadata": {},
   "outputs": [
    {
     "data": {
      "text/plain": [
       "np.int64(0)"
      ]
     },
     "execution_count": 9,
     "metadata": {},
     "output_type": "execute_result"
    }
   ],
   "source": [
    "df.columns.duplicated().sum()"
   ]
  },
  {
   "cell_type": "markdown",
   "id": "13e79286-2033-4d8f-8106-63bff7787943",
   "metadata": {},
   "source": [
    "Il n'y a aucun doublons"
   ]
  },
  {
   "cell_type": "markdown",
   "id": "855848da-5bb4-49e4-8a95-77b979246961",
   "metadata": {},
   "source": [
    "### c. Suppression de la colonne 'Unnameed'"
   ]
  },
  {
   "cell_type": "code",
   "execution_count": 10,
   "id": "410f9145-f288-43d2-bb40-1887c656e602",
   "metadata": {},
   "outputs": [],
   "source": [
    "df.drop(columns={'Unnamed: 0'}, axis=1, inplace=True)"
   ]
  },
  {
   "cell_type": "code",
   "execution_count": 11,
   "id": "bdf682f8-4cab-4f35-b1c6-f456d119dc6d",
   "metadata": {},
   "outputs": [
    {
     "data": {
      "text/html": [
       "<div>\n",
       "<style scoped>\n",
       "    .dataframe tbody tr th:only-of-type {\n",
       "        vertical-align: middle;\n",
       "    }\n",
       "\n",
       "    .dataframe tbody tr th {\n",
       "        vertical-align: top;\n",
       "    }\n",
       "\n",
       "    .dataframe thead th {\n",
       "        text-align: right;\n",
       "    }\n",
       "</style>\n",
       "<table border=\"1\" class=\"dataframe\">\n",
       "  <thead>\n",
       "    <tr style=\"text-align: right;\">\n",
       "      <th></th>\n",
       "      <th>Pregnancies</th>\n",
       "      <th>Glucose</th>\n",
       "      <th>BloodPressure</th>\n",
       "      <th>SkinThickness</th>\n",
       "      <th>Insulin</th>\n",
       "      <th>BMI</th>\n",
       "      <th>DiabetesPedigreeFunction</th>\n",
       "      <th>Age</th>\n",
       "    </tr>\n",
       "  </thead>\n",
       "  <tbody>\n",
       "    <tr>\n",
       "      <th>0</th>\n",
       "      <td>6</td>\n",
       "      <td>148</td>\n",
       "      <td>72</td>\n",
       "      <td>35</td>\n",
       "      <td>0</td>\n",
       "      <td>33.6</td>\n",
       "      <td>0.627</td>\n",
       "      <td>50</td>\n",
       "    </tr>\n",
       "    <tr>\n",
       "      <th>1</th>\n",
       "      <td>1</td>\n",
       "      <td>85</td>\n",
       "      <td>66</td>\n",
       "      <td>29</td>\n",
       "      <td>0</td>\n",
       "      <td>26.6</td>\n",
       "      <td>0.351</td>\n",
       "      <td>31</td>\n",
       "    </tr>\n",
       "    <tr>\n",
       "      <th>2</th>\n",
       "      <td>8</td>\n",
       "      <td>183</td>\n",
       "      <td>64</td>\n",
       "      <td>0</td>\n",
       "      <td>0</td>\n",
       "      <td>23.3</td>\n",
       "      <td>0.672</td>\n",
       "      <td>32</td>\n",
       "    </tr>\n",
       "    <tr>\n",
       "      <th>3</th>\n",
       "      <td>1</td>\n",
       "      <td>89</td>\n",
       "      <td>66</td>\n",
       "      <td>23</td>\n",
       "      <td>94</td>\n",
       "      <td>28.1</td>\n",
       "      <td>0.167</td>\n",
       "      <td>21</td>\n",
       "    </tr>\n",
       "    <tr>\n",
       "      <th>4</th>\n",
       "      <td>0</td>\n",
       "      <td>137</td>\n",
       "      <td>40</td>\n",
       "      <td>35</td>\n",
       "      <td>168</td>\n",
       "      <td>43.1</td>\n",
       "      <td>2.288</td>\n",
       "      <td>33</td>\n",
       "    </tr>\n",
       "    <tr>\n",
       "      <th>...</th>\n",
       "      <td>...</td>\n",
       "      <td>...</td>\n",
       "      <td>...</td>\n",
       "      <td>...</td>\n",
       "      <td>...</td>\n",
       "      <td>...</td>\n",
       "      <td>...</td>\n",
       "      <td>...</td>\n",
       "    </tr>\n",
       "    <tr>\n",
       "      <th>763</th>\n",
       "      <td>10</td>\n",
       "      <td>101</td>\n",
       "      <td>76</td>\n",
       "      <td>48</td>\n",
       "      <td>180</td>\n",
       "      <td>32.9</td>\n",
       "      <td>0.171</td>\n",
       "      <td>63</td>\n",
       "    </tr>\n",
       "    <tr>\n",
       "      <th>764</th>\n",
       "      <td>2</td>\n",
       "      <td>122</td>\n",
       "      <td>70</td>\n",
       "      <td>27</td>\n",
       "      <td>0</td>\n",
       "      <td>36.8</td>\n",
       "      <td>0.340</td>\n",
       "      <td>27</td>\n",
       "    </tr>\n",
       "    <tr>\n",
       "      <th>765</th>\n",
       "      <td>5</td>\n",
       "      <td>121</td>\n",
       "      <td>72</td>\n",
       "      <td>23</td>\n",
       "      <td>112</td>\n",
       "      <td>26.2</td>\n",
       "      <td>0.245</td>\n",
       "      <td>30</td>\n",
       "    </tr>\n",
       "    <tr>\n",
       "      <th>766</th>\n",
       "      <td>1</td>\n",
       "      <td>126</td>\n",
       "      <td>60</td>\n",
       "      <td>0</td>\n",
       "      <td>0</td>\n",
       "      <td>30.1</td>\n",
       "      <td>0.349</td>\n",
       "      <td>47</td>\n",
       "    </tr>\n",
       "    <tr>\n",
       "      <th>767</th>\n",
       "      <td>1</td>\n",
       "      <td>93</td>\n",
       "      <td>70</td>\n",
       "      <td>31</td>\n",
       "      <td>0</td>\n",
       "      <td>30.4</td>\n",
       "      <td>0.315</td>\n",
       "      <td>23</td>\n",
       "    </tr>\n",
       "  </tbody>\n",
       "</table>\n",
       "<p>768 rows × 8 columns</p>\n",
       "</div>"
      ],
      "text/plain": [
       "     Pregnancies  Glucose  BloodPressure  SkinThickness  Insulin   BMI  \\\n",
       "0              6      148             72             35        0  33.6   \n",
       "1              1       85             66             29        0  26.6   \n",
       "2              8      183             64              0        0  23.3   \n",
       "3              1       89             66             23       94  28.1   \n",
       "4              0      137             40             35      168  43.1   \n",
       "..           ...      ...            ...            ...      ...   ...   \n",
       "763           10      101             76             48      180  32.9   \n",
       "764            2      122             70             27        0  36.8   \n",
       "765            5      121             72             23      112  26.2   \n",
       "766            1      126             60              0        0  30.1   \n",
       "767            1       93             70             31        0  30.4   \n",
       "\n",
       "     DiabetesPedigreeFunction  Age  \n",
       "0                       0.627   50  \n",
       "1                       0.351   31  \n",
       "2                       0.672   32  \n",
       "3                       0.167   21  \n",
       "4                       2.288   33  \n",
       "..                        ...  ...  \n",
       "763                     0.171   63  \n",
       "764                     0.340   27  \n",
       "765                     0.245   30  \n",
       "766                     0.349   47  \n",
       "767                     0.315   23  \n",
       "\n",
       "[768 rows x 8 columns]"
      ]
     },
     "execution_count": 11,
     "metadata": {},
     "output_type": "execute_result"
    }
   ],
   "source": [
    "df"
   ]
  },
  {
   "cell_type": "markdown",
   "id": "dc13cea9-705a-4ba5-8006-8b7076333ef0",
   "metadata": {},
   "source": [
    "### 3. Analyser la distribution des variables numériques"
   ]
  },
  {
   "cell_type": "code",
   "execution_count": 12,
   "id": "3c4c0344-238a-4427-950d-2a432c29bc19",
   "metadata": {},
   "outputs": [
    {
     "name": "stdout",
     "output_type": "stream",
     "text": [
      "Requirement already satisfied: seaborn in ./.venv/lib/python3.13/site-packages (0.13.2)\n",
      "Requirement already satisfied: numpy!=1.24.0,>=1.20 in ./.venv/lib/python3.13/site-packages (from seaborn) (2.3.1)\n",
      "Requirement already satisfied: pandas>=1.2 in ./.venv/lib/python3.13/site-packages (from seaborn) (2.3.1)\n",
      "Requirement already satisfied: matplotlib!=3.6.1,>=3.4 in ./.venv/lib/python3.13/site-packages (from seaborn) (3.10.3)\n",
      "Requirement already satisfied: contourpy>=1.0.1 in ./.venv/lib/python3.13/site-packages (from matplotlib!=3.6.1,>=3.4->seaborn) (1.3.2)\n",
      "Requirement already satisfied: cycler>=0.10 in ./.venv/lib/python3.13/site-packages (from matplotlib!=3.6.1,>=3.4->seaborn) (0.12.1)\n",
      "Requirement already satisfied: fonttools>=4.22.0 in ./.venv/lib/python3.13/site-packages (from matplotlib!=3.6.1,>=3.4->seaborn) (4.59.0)\n",
      "Requirement already satisfied: kiwisolver>=1.3.1 in ./.venv/lib/python3.13/site-packages (from matplotlib!=3.6.1,>=3.4->seaborn) (1.4.8)\n",
      "Requirement already satisfied: packaging>=20.0 in ./.venv/lib/python3.13/site-packages (from matplotlib!=3.6.1,>=3.4->seaborn) (25.0)\n",
      "Requirement already satisfied: pillow>=8 in ./.venv/lib/python3.13/site-packages (from matplotlib!=3.6.1,>=3.4->seaborn) (11.3.0)\n",
      "Requirement already satisfied: pyparsing>=2.3.1 in ./.venv/lib/python3.13/site-packages (from matplotlib!=3.6.1,>=3.4->seaborn) (3.2.3)\n",
      "Requirement already satisfied: python-dateutil>=2.7 in ./.venv/lib/python3.13/site-packages (from matplotlib!=3.6.1,>=3.4->seaborn) (2.9.0.post0)\n",
      "Requirement already satisfied: pytz>=2020.1 in ./.venv/lib/python3.13/site-packages (from pandas>=1.2->seaborn) (2025.2)\n",
      "Requirement already satisfied: tzdata>=2022.7 in ./.venv/lib/python3.13/site-packages (from pandas>=1.2->seaborn) (2025.2)\n",
      "Requirement already satisfied: six>=1.5 in ./.venv/lib/python3.13/site-packages (from python-dateutil>=2.7->matplotlib!=3.6.1,>=3.4->seaborn) (1.17.0)\n",
      "Note: you may need to restart the kernel to use updated packages.\n"
     ]
    }
   ],
   "source": [
    "pip install seaborn"
   ]
  },
  {
   "cell_type": "code",
   "execution_count": null,
   "id": "6a730619-a803-4ad2-abeb-155e2f60fde5",
   "metadata": {
    "scrolled": true
   },
   "outputs": [
    {
     "data": {
      "image/png": "[encoded data removed]",
      "text/plain": [
       "<Figure size 640x480 with 1 Axes>"
      ]
     },
     "metadata": {},
     "output_type": "display_data"
    },
    {
     "data": {
      "image/png": "[encoded data removed]",
      "text/plain": [
       "<Figure size 640x480 with 1 Axes>"
      ]
     },
     "metadata": {},
     "output_type": "display_data"
    },
    {
     "data": {
      "image/png": "[encoded data removed]",
      "text/plain": [
       "<Figure size 640x480 with 1 Axes>"
      ]
     },
     "metadata": {},
     "output_type": "display_data"
    }
   ],
   "source": [
    "for i in df.select_dtypes(include = \"number\").columns.tolist():\n",
    "    sns.histplot(df, kde=True)\n",
    "    plt.title(f\"Distribution de la {i}\")\n",
    "    plt.show()"
   ]
  },
  {
   "cell_type": "markdown",
   "id": "4c7b7f66-f624-4866-8877-16f23bfc154f",
   "metadata": {},
   "source": [
    "### 4. Etude des relations entre les variables"
   ]
  },
  {
   "cell_type": "markdown",
   "id": "82a0e1d5-217e-4942-ad48-2ec3ab1a7d80",
   "metadata": {},
   "source": [
    "### a. Matrice de corrélation"
   ]
  },
  {
   "cell_type": "code",
   "execution_count": null,
   "id": "f419b4f8-ddff-4c53-b64a-8a7361b42b77",
   "metadata": {},
   "outputs": [],
   "source": [
    "corr = df.corr(numeric_only=True)\n",
    "sns.heatmap(corr, annot=True, cmap=\"coolwarm\")\n",
    "plt.title(\"Matrice de corrélation entre les variables numérique\")\n",
    "plt.show()"
   ]
  },
  {
   "cell_type": "markdown",
   "id": "f775e4e3-8317-4790-9134-ceae914f8be8",
   "metadata": {},
   "source": [
    "# Prétraitement des données"
   ]
  },
  {
   "cell_type": "markdown",
   "id": "7705f547-2ee7-42ee-b95c-97da0b3285f7",
   "metadata": {},
   "source": [
    "### 1. Gestion des valeurs manquantes"
   ]
  },
  {
   "cell_type": "markdown",
   "id": "aafc4e79-250e-4fb5-a5f8-c424eb77e477",
   "metadata": {},
   "source": [
    "Vue qu'il n'y a pas de valeurs manquantes on a pas besoin de les traiter"
   ]
  },
  {
   "cell_type": "markdown",
   "id": "aec2f13e-b395-477b-8133-d04532f92ff0",
   "metadata": {},
   "source": [
    "### 2. Détéction et suppression des valeurs aberrante"
   ]
  },
  {
   "cell_type": "markdown",
   "id": "3c07c678-4a1c-4de0-ae9d-ef0827a41a89",
   "metadata": {},
   "source": [
    "### 2.1 Détection des valeurs aberrantes"
   ]
  },
  {
   "cell_type": "markdown",
   "id": "2d0522bd-b637-4f14-b108-5c7960ac6828",
   "metadata": {},
   "source": [
    "### a. Methode des interquarties"
   ]
  },
  {
   "cell_type": "code",
   "execution_count": null,
   "id": "70a430c9-d4fb-40a9-8ad2-db7c1236df5a",
   "metadata": {},
   "outputs": [],
   "source": [
    "def outliers(dframe):\n",
    "    outliers = dframe.copy()\n",
    "    for i in dframe.select_dtypes(include=\"number\").columns.tolist():\n",
    "        q1 = dframe[i].quantile(0.25)\n",
    "        q3 = dframe[i].quantile(0.75)\n",
    "        iqr = q3 - q1\n",
    "        b_inf = q1 - 1.5*iqr\n",
    "        b_sup = q3 + 1.5*iqr\n",
    "        outliers = dframe[(dframe[i] < b_inf) | (dframe[i] > b_sup)]\n",
    "    return outliers\n",
    "outliers = outliers(df)\n",
    "outliers"
   ]
  },
  {
   "cell_type": "markdown",
   "id": "95ccacfb-c844-4206-a0ce-06c895172460",
   "metadata": {},
   "source": [
    "### b. Mehode boite à moustache "
   ]
  },
  {
   "cell_type": "code",
   "execution_count": null,
   "id": "ec335a38-6bad-4511-9308-d75bf0365353",
   "metadata": {
    "scrolled": true
   },
   "outputs": [],
   "source": [
    "for i in df.select_dtypes(include=\"number\").columns.tolist():\n",
    "    sns.boxplot(x=df[i])\n",
    "    plt.title(f\"Boite à moustache avant suppression des outliers de {i}\")\n",
    "    plt.show()"
   ]
  },
  {
   "cell_type": "markdown",
   "id": "61d15bab-afc7-45ac-8cc0-8cc837522249",
   "metadata": {},
   "source": [
    "### 2.2 Suppression des valeurs aberrantes"
   ]
  },
  {
   "cell_type": "code",
   "execution_count": null,
   "id": "ea984fcb-1efb-453c-8304-b8b26e54d92c",
   "metadata": {},
   "outputs": [],
   "source": [
    "def remove_outliers(dframe):\n",
    "    df_clean = dframe.copy()\n",
    "    for i in dframe.select_dtypes(include=\"number\").columns.tolist():\n",
    "        q1 = dframe[i].quantile(0.25)\n",
    "        q3 = dframe[i].quantile(0.75)\n",
    "        iqr = q3 - q1\n",
    "        b_inf = q1 - 1.5*iqr\n",
    "        b_sup = q3 + 1.5*iqr\n",
    "        df_clean = dframe[(dframe[i] >= b_inf) & (dframe[i] <= b_sup)]\n",
    "        \n",
    "    return df_clean\n",
    "\n",
    "df_clean=remove_outliers(df)\n",
    "df_clean\n"
   ]
  },
  {
   "cell_type": "code",
   "execution_count": null,
   "id": "022c1e7a-5a1c-4a46-a2da-5d02ca863ff8",
   "metadata": {
    "scrolled": true
   },
   "outputs": [],
   "source": [
    "for i in df_clean.select_dtypes(include=\"number\").columns.tolist():\n",
    "    sns.boxplot(x=df_clean[i])\n",
    "    plt.title(f\"Boite à moustache aprés suppression des outliers de {i}\")\n",
    "    plt.show()"
   ]
  },
  {
   "cell_type": "code",
   "execution_count": null,
   "id": "720ac5d0-5d02-4173-b453-7d43f9ad3ad5",
   "metadata": {},
   "outputs": [],
   "source": [
    "df_clean.shape"
   ]
  },
  {
   "cell_type": "markdown",
   "id": "1f3cc738-32e0-4690-aec6-69eb2add6a1e",
   "metadata": {},
   "source": [
    "### 3. Analyse exploratoire des relations entre variables"
   ]
  },
  {
   "cell_type": "markdown",
   "id": "702b955e-d6d7-46e0-a3f8-b3012c8370ca",
   "metadata": {},
   "source": [
    "Choix des colonnes jugées significatives: Glucose, BMI, Age, DiabetesPedigreeFunction."
   ]
  },
  {
   "cell_type": "code",
   "execution_count": null,
   "id": "a4ccf33a-5578-4912-a974-abd0fe12c8be",
   "metadata": {},
   "outputs": [],
   "source": [
    "cols = [\"Glucose\", \"BMI\", \"Age\", \"DiabetesPedigreeFunction\"]\n",
    "sns.pairplot(df_clean[cols])\n",
    "plt.show()"
   ]
  },
  {
   "cell_type": "markdown",
   "id": "6d4ce74a-80f5-4951-8495-fa2838db2cb9",
   "metadata": {},
   "source": [
    "### 4. Mise à l’échelle des variables grace à la technique de centrage-réduction(StandardScaler)"
   ]
  },
  {
   "cell_type": "code",
   "execution_count": null,
   "id": "e7e680c8-0fed-4269-8669-cb855cd7e037",
   "metadata": {},
   "outputs": [],
   "source": [
    "pip install scikit-learn"
   ]
  },
  {
   "cell_type": "code",
   "execution_count": null,
   "id": "72fa4a59-634d-4d18-bd90-40a29005d36b",
   "metadata": {},
   "outputs": [],
   "source": [
    "from sklearn.preprocessing import StandardScaler\n",
    "\n",
    "scaler = StandardScaler()\n",
    "df_clean = pd.DataFrame(scaler.fit_transform(df_clean), columns=df_clean.columns)\n",
    "df_clean"
   ]
  },
  {
   "cell_type": "code",
   "execution_count": null,
   "id": "3dd5c831-cb83-4e35-9a27-567efff0fea3",
   "metadata": {},
   "outputs": [],
   "source": []
  }
 ],
 "metadata": {
  "kernelspec": {
   "display_name": "Python 3 (ipykernel)",
   "language": "python",
   "name": "python3"
  },
  "language_info": {
   "codemirror_mode": {
    "name": "ipython",
    "version": 3
   },
   "file_extension": ".py",
   "mimetype": "text/x-python",
   "name": "python",
   "nbconvert_exporter": "python",
   "pygments_lexer": "ipython3",
   "version": "3.13.5"
  }
 },
 "nbformat": 4,
 "nbformat_minor": 5
}
